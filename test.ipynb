{
 "cells": [
  {
   "cell_type": "code",
   "execution_count": 18,
   "metadata": {},
   "outputs": [
    {
     "name": "stderr",
     "output_type": "stream",
     "text": [
      "/home/ubuntu/.cache/pypoetry/virtualenvs/data-science-KLwnPlAe-py3.10/lib/python3.10/site-packages/distributed/node.py:182: UserWarning: Port 8787 is already in use.\n",
      "Perhaps you already have a cluster running?\n",
      "Hosting the HTTP server on port 33051 instead\n",
      "  warnings.warn(\n"
     ]
    }
   ],
   "source": [
    "import pandas as pd\n",
    "import dask.dataframe as dd\n",
    "import os\n",
    "import json\n",
    "import dask\n",
    "import redis\n",
    "\n",
    "redis_client = redis.Redis(host=\"localhost\", port=6378)\n",
    "\n",
    "from dask.distributed import LocalCluster\n",
    "cluster = LocalCluster()          # Fully-featured local Dask cluster\n",
    "client = cluster.get_client()\n",
    "\n",
    "csv_df = pd.read_csv('/home/ubuntu/Data_Science/Big_Data/dask-lab/pokemonDB_dataset.csv')\n",
    "\n",
    "parquet_df = dd.read_parquet('/home/ubuntu/Data_Science/Big_Data/dask-lab/trainers_with_pockemon.parquet')\n",
    "\n",
    "mean_def = csv_df['Defense Max'].mean()\n",
    "\n",
    "filter_df = csv_df[csv_df['Defense Max'] > mean_def]\n",
    "\n",
    "merge_df = parquet_df.merge(filter_df)\n",
    "\n",
    "merge_df = merge_df.drop(['pockemon'], axis=1)\n",
    "\n",
    "merge_df['team_name'] = merge_df['first_name'] + \" \" + merge_df['last_name']\n",
    "\n",
    "merge_df = merge_df.drop(['first_name', 'last_name'], axis=1)\n",
    "\n",
    "high_def_team = merge_df.groupby(['team_name']).agg({'Defense Max': 'mean'})\n",
    "\n",
    "h = high_def_team.persist()\n",
    "h_computed = h.compute().reset_index()  # Reset the index\n",
    "\n",
    "connection = redis_client\n",
    "\n",
    "records = h_computed.to_dict(orient='records')  \n",
    "\n",
    "for record in records:\n",
    "    team_name = record['team_name']\n",
    "    defense_mean = record['Defense Max']\n",
    "    connection.set(team_name, json.dumps(defense_mean))\n"
   ]
  },
  {
   "cell_type": "code",
   "execution_count": 23,
   "metadata": {},
   "outputs": [
    {
     "name": "stdout",
     "output_type": "stream",
     "text": [
      "[b'Art Sandoval', b'Alane Carey', b'Alise Kelly', b'Antoine Murphy', b'Ai Holcomb', b'Andrea Bray', b'Angle Stuart', b'Analisa Carpenter', b'Arnold Gentry', b'Alica Downs', b'Alonzo Herrera', b'Annett Christensen', b'Andy Carey', b'Annelle Huber', b'Altha Haynes', b\"Anika O'neill\", b'Arletha Hickman', b'Anja Pittman', b'Asa Drake', b'Analisa Mccray', b'Alane Estes', b'Angila Beasley', b'Antonio Klein', b'An Savage', b'Aaron Fitzpatrick', b'Ayanna Jordan', b'Ayana Bryan', b'Alisia Fulton', b'Arnulfo Snyder', b'Ariane Mcgowan', b'Assunta Best', b'Andrew Parsons', b'Anjanette Aguirre', b'Annalisa Welch', b'Annice Rivera', b'Adalberto Mooney', b'Almeta Daniels', b'Arie Chaney', b'Amee Stevenson', b'Agnus Potter', b'Anastacia Pugh', b'Arturo Roach', b'Alfredo Vasquez', b'Alden Hodge', b'Agustin Buckley', b'Alejandrina Lopez', b'Ashley Freeman', b'Aaron Owens', b'An Valenzuela', b'Antwan Weeks', b'Arnulfo Gates', b'Austin Bell', b'Annalisa Holloway', b'Audria Woods', b'Anjanette Bright', b'Allan Cruz', b'Alva Mathis', b'Aldo Miller', b'Alethea Donaldson', b'Andy Tate', b'Arianna Grant', b'Aliza Lott', b'Aaron Griffith', b'Annika Sutton', b'Ashley Fleming', b'Adrian Stewart', b'Alberto Acosta', b'Alberto Jackson', b'Alessandra Wyatt', b'Ashanti Dodson', b'Alline Hester', b'Antonio Marshall', b'Amos Villarreal', b'Arthur Madden', b'Antonetta Frederick', b'Audie Gamble', b'Allegra Sullivan', b'Arturo Blake', b'Arturo Simon', b'Angelo Burgess', b'Audie Guerrero', b'Annice Avila', b'Alix Hurst', b'Abe Mcintyre', b'Angle Hatfield', b'Ardath Perkins', b'Antone Knowles', b'Alejandro Lowery', b'Alfredo Guy', b'Anja Fischer', b'Alvera Villarreal', b'Adolph Miller', b'Albert Deleon', b'Avery Roth', b'Antonio Mccoy', b'Annika Jordan', b'Antony Gutierrez', b'Alexander Nunez', b'Angele Odom', b'Adriene Mcdaniel', b'Alethia Strickland', b'Ara Moses', b'Aundrea Griffin', b'Annalee Bell', b'Alita Mccall', b'Armand Hull', b'Alan Hahn', b'Alix Jefferson', b'Arnetta Juarez', b'Aldo Landry', b'Alise Bender', b'Antonietta Tucker', b'Alia Rodriquez', b'Anjanette Henson', b'Avelina Padilla', b'Arnulfo Banks', b'Andy Everett', b'Alise Thompson', b'Alysa Clayton', b'Arvilla Hickman', b'Adelle Meyer', b'Adan Wallace', b'Abraham Carver', b'Arie Larson', b'Antonina Cortez', b'Ashanti Neal', b'Aundrea Washington', b'Ambrose Key', b'Alvin Moody', b'Armand Moon', b'Antwan Hays', b'Aliza Roth', b'Arla Sherman', b'Arron Buck', b'Arnetta Guerra', b'An Parrish', b'Antione Kirkland', b'Armando Carney', b'Aiko Bradford', b'Assunta Stokes', b'Angel Gutierrez', b'Asley Osborne', b'Ayako Dickson', b'Antonia Buckner', b'Aaron Hawkins', b'Armand Sweet', b'Alysha Young', b'Arcelia Ross', b'Aide Dodson', b'Asuncion Boyle', b'Adalberto Huber', b'Annice Rose', b'Audrie Riley', b'Arturo Hill', b'Allena Mendoza', b'Aracelis Steele', b'Alane Howe', b'Annamae Kirkland', b'Armanda Perez', b'Almeta Cline', b'Adaline Pierce', b'Arianna Holden', b'Andres Kirby', b'Ariane Arnold', b'Angelyn Guzman', b'Anastacia Buckley', b'Armand Dickson', b'Albert Benjamin', b'Anette Cherry', b'Anderson Vance', b'Alishia Quinn', b'Allen Gates', b'Amiee Logan', b'Alia Hurley', b'Arnita Conrad', b'Aleisha Woodard', b'Art Sawyer', b'Ariel Henderson', b'Adan Olsen', b'Alfonzo Valdez', b'Arlie Montoya', b'Anette Bright', b'Alysa Gomez', b'Ali Walton', b'Adalberto Garcia', b'Adaline Thomas', b'Arianne Snow', b'Anya Hampton', b'Aurelio Coffey', b'Adriene Buchanan', b'Aide Parsons', b'Ali Beard', b'Aubrey Castaneda', b'Alix Mason', b'Asa Evans', b'Ashlea Mullins', b'Antonio Bonner', b'Ashanti Harrington', b'Asley Garrett', b'Alejandrina Irwin', b'Angel Holden', b'Aurelio Boyd', b'Ashley Hester', b'Arthur Golden', b'Art Jefferson', b'Ardelle Wooten', b'Arlie Decker', b'Ardell Farrell', b'Arnoldo Ward', b'Angila Moody', b'Andy Logan', b'Arron Mercado', b'Alden Snyder', b'Alvin Avila', b'Alyse Franks', b'Alaine Bright', b'Argelia Travis', b'Adam Gould', b'Ayana Ramirez', b'Arthur Faulkner', b'An Fitzpatrick', b'Aiko Robertson', b'Aliza Langley', b'Abraham Munoz', b'Annelle Hoover', b'Agueda Carter', b'Alec Boyer', b'Ayesha Mckenzie', b'Alaine Adkins', b'Audria Rivas', b'Alphonso Avila', b'Armando Hartman', b'Ashley Woodard', b'Aracelis Middleton', b'Alva Curry', b'Alfred David', b'Alia Gilbert', b'Allan Bates', b'Anja Lucas', b'Alphonso Calhoun', b'Arlie Russell', b'Angle Moon', b'Alleen Rocha', b'Armanda Tillman', b'Arron Miranda', b'Alonso Valencia', b'Angel Morris', b'Asley Dawson', b'Albert Yang', b'Allen Nunez', b'Aron Elliott', b'Alaine Cherry', b'Aide Higgins', b'Aldo Webster', b'Alexander Terry', b'Anastacia Rivas', b'Aron Tran', b'Arlie Kramer', b'Anibal Suarez', b'August Barry', b'Ashlyn Franco', b'Afton Mccray', b'Azzie Conner', b'Amos Dickerson', b'Alfredia Frye', b'Anderson Crosby', b'Arlen Davis', b'August Bernard', b'Asley Bender', b'Allen Hendrix', b'Ardelle Trujillo', b'Annamae Massey', b'Ayesha Lloyd', b'Augustine Hendricks', b'Albertina Gibbs', b'Arletta Horne', b'Antonio Pace', b'Arlie Jordan', b'Aleida Skinner', b'Annika Simmons', b'Aracelis Jordan', b'Alane Davidson', b'Alan Mcdonald', b'Antonina Waller', b'Arlette Garrison', b'Angel Rodriguez', b'Aldo Butler', b'Antonetta Yang', b'Adan Hooper', b'Asuncion Booker', b'Arlen Jacobs', b'Alethea Black', b'Anderson Hopper', b'Adelle Terrell', b'Augustus Daugherty', b'Alan Lambert', b'Arnette Saunders', b'Annita Berg', b'Arica Griffith', b'Angelic Davis', b'Alyse Gibson', b'Annamaria Bowen', b'Arlen Dorsey', b'Antonetta Yates', b'Adan Pate', b'Arlie Rhodes', b'Aundrea Stanton', b'Alphonso Rosario', b'Abram Norton', b'Albertina Waller', b'Aleida Moran', b'Aleen Benton', b'Antonina Orr', b'Annelle Gross', b'Anderson Reilly', b'Arnette Fuentes', b'Allan Harrison', b'Allen Winters', b'Alvin Reese', b'Abram Vance', b'Anisa Stone', b'Angel Phelps', b'Adam Blankenship', b'Asuncion England', b'Ai Vazquez', b'Arnette Singleton', b'Ambrose Orr', b'Akiko Valencia', b'Aide Palmer', b'Ashanti Vinson', b'Arthur Baird', b'Adan Mathews', b'Andre Santiago', b'Ayanna Boyer', b'Arianna Cruz', b'Arnold Greer', b'Arnette Curry', b'Annika Rogers', b'Albertina Cash', b'Alec Macias', b'Aleen Wise', b'Antwan Key', b'Alonzo Mcmillan', b'Alleen Chen', b'Allen Nash', b'Adriene Rivera', b'Arnulfo Hammond', b'Almeta Reed', b'Alla Raymond', b'Arthur Buckley', b'Augustine Crosby', b'Aurelio Ford', b'Anette Sykes', b'Adam Harrison', b'Assunta Casey', b'Alane Dennis', b'Alden Lamb', b'Andree Cook', b'Ali Russell', b'Abe Hodges', b'Armandina Villarreal', b'Alvaro Stewart', b'Arnetta Blackburn', b'Arlinda Heath', b'Agueda Mejia', b'Abram Haney', b'Ardell Guerrero', b'Arthur George', b'Alisia Cook', b'Abel Williams', b'Alessandra Patton', b'Alfredo Davis', b'Angeles Ingram', b'Ambrose Jefferson', b'Alonso Alford', b'Alessandra Everett', b'Ayana Reilly', b'Arturo Blackwell', b'Antone Murray', b'Amira Clemons', b'Arthur Sampson', b'Arnulfo Buckley', b'Antone Franks', b'Anastacia Fletcher', b'Anisa Thompson', b'Anton Ferguson', b'Augustus Kelley', b'Avelina Frazier', b'Alexis Quinn', b'Arlette Rodriguez', b'Angel Rose', b'Adrien Morrow', b'Akiko Douglas', b'Antone Stanley', b'Andrew Peck', b'Albertina Galloway', b'Aja Rogers', b'Arnold Ellison', b'Alfredia Watts', b'Alleen Conway', b'Angelic Mckee', b'Ashlea Stephenson', b'Annamaria Cervantes', b'Al Bridges', b'Allegra Hewitt', b'Alfredo Moreno', b'Armando Nixon', b'Anjelica Avery', b'Aide Rosa', b'Ashlyn Chapman', b'Alexander Camacho', b'Almeta Stark', b'Arminda Stone', b'Arthur Bonner', b'Abe Shaffer', b'Alton Lamb', b'Ambrose Hernandez', b'Ambrose Moran', b'Apryl Mason', b'Antonina Jimenez', b'Adrian Calderon', b'Alec Barnes', b'Arlyne Mcguire', b'Alfred Barnett', b'Antonio Cummings', b'Arlinda Johnston', b'Anjelica Cote', b'Arnoldo White', b'Ashlea Albert', b'Ai Bond', b'Antonia Ashley', b'Allen Underwood', b'Angel Jenkins', b'Aracelis Sellers', b'Alia Howard', b'Ashlea Slater', b'Antonietta Murray', b'Agripina George', b'Anthony Winters', b'Annalisa Huff', b'Alton Floyd', b'Augustina Evans', b'Arlena Jensen', b'Armand Malone', b'Armando Blankenship', b'Adaline York', b'Anthony England', b'Ashanti Pugh', b'Audie Acosta', b'Alejandro Gregory', b'Antione Dean', b'Anja Cherry', b'Ariane Carver', b'Alvera Camacho', b'Avril Faulkner', b'Adan Chaney', b'Anthony Wynn', b'Antony Joyner', b'Allena Pierce', b'Ashanti Patrick', b'Aliza England', b'Apolonia Simmons', b'Alisia Middleton', b'Ai Atkins', b'Austin Peck', b'Ariel Sutton', b'Aide Nixon', b'Aldo Maxwell', b'Ashlea Suarez', b'Ailene Benton', b'Adena Britt', b'Alex Flynn', b'Alexander Tillman', b'Anette Moran', b'Anderson Blair', b'Angila Castillo', b'Annika Kaufman', b'Aja Herrera', b'Aja Wallace', b'Alberto Butler', b'Adaline Barrera', b'Arianne Wells', b'Ashley Ramirez', b'Adah Bush', b'Augustine Osborne', b'Azzie Collins', b'Argelia Richmond', b'Arianne Owen', b'Asa Chase', b'Angila Lawrence', b'Alica Randall', b'Arianne Hensley', b'Arie Sullivan', b'Adena Joyce', b'Ayana Dudley', b'Arnulfo House', b'Avery Herman', b'Antonio Castro', b'Ariel Cannon', b'Azalee Robbins', b'Alfredo Leach', b'Ashley Reid', b'Antoine Wynn', b'Antione Gibbs', b'Abram Booth', b'Archie Williamson', b'Alane Brady', b'Arthur Thornton', b'Alberto Petersen', b'Alfredia Russo', b'Adan Rasmussen', b'Aron Ross', b'Akilah Chandler', b'Adan Macdonald', b'Anja Cannon', b'Alexander Guthrie', b'Ara Black', b\"Andres O'connor\", b'Assunta Alford', b'Adelle Rodgers', b'Alonzo Huffman', b'Arica Blake', b'Abram Dixon', b'Ara Bond', b'Adan Knapp', b'Augustina Gordon', b'Andrew Clay', b'Amal Cunningham', b'Agueda Pearson', b'Arminda Silva', b'Alishia Mayer', b'Albert Lane', b'Arlean Harris', b'Adaline Hughes', b'Arron Leonard', b'Avelina Estes', b'Agripina Bradley', b'Aiko Emerson', b'Ayako Macias', b'Angle Beard', b'Arla Nolan', b'Antone Weaver', b'Alan Paul', b'Antonio Riley', b'Aubrey Hull', b'Alden Wiggins', b'Angila Lynn', b'Adena Sloan', b'Ayesha Kline', b'Alfredo Kelley', b'Alleen Savage', b'Allen Dennis', b'Anderson Moore', b'Aliza Barker', b'Augustine Rosales', b'Alane Weiss', b'Abram Beach', b'Albertine Buckner', b'Argelia Petersen', b'Annita Williamson', b'Alessandra Washington', b'Apryl Russo', b'Antwan Brooks', b'Afton Hebert', b'Alica Durham', b'Alia Lancaster', b'Abel Jensen', b'Altha Blake', b'Anastacia Macdonald', b'Annalisa Marsh', b'Akilah Shaffer', b'Adolfo Medina', b'Allen Cochran', b'Anisa Pearson', b\"Abe O'neal\", b'Abram Craft', b'Anastacia Randall', b'Adriene Giles', b'Arnita Williams', b'Adena Burch', b'Alonzo Gamble', b'Arnold Wells', b'Alexis Church', b'Alysha Moss', b'Annalee Klein', b'Ashanti Guzman', b'Amee Rose', b'Arlyne Rush', b'Albertina Doyle', b'Alyse Austin', b'Antoine Brock', b'Annett Monroe', b'Adena Gibbs', b'Allan Shepherd', b'Andrea Tyler', b'Agnus Klein', b'Ayana Warren', b'Anamaria Joyce', b'Alleen Wright', b'Alexis Stanley', b'Anisa David', b'Aaron Manning', b'Alia Mills', b'Aaron Burnett', b'Anisa Simmons', b'Alvaro Mathews', b'Anastacia Andrews', b'Alphonso Whitaker', b'Anthony Melton', b'Angel Ray', b'Aubrey Robbins', b'Azzie Alston', b'Aaron Benson', b'Akiko Rodgers', b'Annabell Shannon', b'Anibal Logan', b'Antonia Goff', b'Alita Luna', b'Adelle Hyde', b'Abraham Phelps', b'Agripina Bird', b'Aron Conley', b'Ara Miles', b'Abram Wiley', b'Alphonse Ford', b'Antonio Stone', b'Angelika Pickett', b'Adolfo Reid', b'Austin Avila', b'Anderson Dale', b'Alla Hinton', b'Adena Castillo', b'Anderson Bean', b'Agnus Huff', b'Asuncion Powell', b'Andy Rosa', b'Archie Cervantes', b'Ambrose Mcintyre', b'Adaline Pearson', b'Annamae Wall', b'Ashley Porter', b'Alberto Phelps', b'Andreas Crosby', b'Annelle Romero', b'Ardell Stuart', b'Anika Mcintosh', b'Arnoldo Lyons', b'Anamaria Herman', b'Ardell Crosby', b'Alfredo Parks', b'Alease Patrick', b'Agnus Baldwin', b'Anderson Russell', b'Alvaro Blanchard', b'Arlinda Hooper', b'Anneliese Buck', b'Anibal Casey', b'Augustus Sharp', b'Anjanette Gross', b'Adah Mcintyre', b'Allan Spence', b'August Bennett', b'Alphonse Nunez', b'Alonzo Chambers', b'Arlyne Mccormick', b'Archie Parks', b'An Owen', b'Alfred Bowen', b'Alla Boyle', b'Alverta Harris', b'Augustus Barnett', b'Angla Fletcher', b'Abel Horton', b'Arie Shelton', b'Aldo Walter', b'Arthur Melton', b'Ashley Head', b'Arie Richardson', b'Angele Vance', b'Alberto Franks', b'Azucena Brewer', b'Abram Weiss', b'Alisia Parks', b'Aurelio Rollins', b'Annabell Pitts', b'Arlen Cunningham', b'Antonina Baker', b'Alethea Bowers', b'Angelic Olson', b'Armanda Zamora', b'Abel Burks', b'Alberto Hatfield', b'Alysha Hinton', b'Armand Mccullough', b'Aubrey Tyler', b'Ardell Howe', b'Alden Burch', b'Aliza Mccall', b'Antony Nguyen', b'Alonso Nieves', b'Alfred Acosta', b'Alfred Roberts', b'Annita Thornton', b'Altha Dyer', b'Alayna Carson', b'Antione Small', b'Alessandra West', b'Alleen Hughes', b'Arlen Sutton', b'Asa Hughes', b'Alden Murray', b'Arturo Castro', b'Alisia Vinson', b'Alla Cross', b'Adolfo Lane', b'Anton Cain', b'Anamaria Luna', b'Alexander Knowles', b'Andrea Valencia', b'Agnus Stephenson', b'Albert Acevedo', b'Alva Witt', b'Anton Brennan', b'Alethia Mullins', b'Antione Tran', b'Armand Miller', b'Anisha Wooten', b'Andres Preston', b'Avery Pruitt', b\"Annelle O'neil\", b'Alberto Levy', b'Archie Peterson', b'Audie Rasmussen', b'Ammie Garrett', b'Alfredo Blair', b'Alonzo Mcclain', b'Alphonse Galloway', b'Argentina Michael', b'Alvin Flowers', b'Alisia Lambert', b'Antonio Ramsey', b'Arnold Cotton', b'Andreas Richardson', b'Antione Wong', b'Alise Solomon', b'Arnita Kim', b'Alethia Wilder', b'Ariel Schneider', b'Armanda Osborne', b'Alvin Stokes', b'Ayanna Martinez', b'Annelle Moreno', b'Annamaria Acosta', b'Andreas Palmer', b'Ambrose Michael', b'Adriene Kirkland', b'Armando Molina', b'Art Leonard', b'Arlette Townsend', b'Alfredo Riddle', b'Antonia Pearson', b'Ashanti Long', b'Alfred Lucas', b'Adrian Blake', b'Alvera Carroll', b'Arianne Cotton', b'Arletta Mcdonald', b'Ashley Kent', b'Arla Gutierrez', b'Alfredo Bates', b'Agustin Duke', b'Alona Coleman', b'Apryl Mullen', b'Abel Cherry', b'Anjanette Bean', b'Adalberto England', b'Amina Gould', b'Andrew Bauer', b'Arcelia Burt', b'Asa Serrano', b'Asley Gibbs', b'Aurelio Hancock', b'Arthur Hunter', b'Amina Moses', b'Ali Nielsen', b'Augustine Good', b'Almeta Pate', b'Asa Acosta', b'Apolonia Bray', b'Arron Finley', b'Alona Mccormick', b'Angelena Drake', b'Alvaro Sweeney', b'Angelena Cameron', b'Alphonso Carter', b'Ambrose Vaughn', b'Aldo Trujillo', b'Annett Fox', b'Aleshia Griffin', b'Armand Watkins', b'Agripina Haley', b'Angelyn Benjamin', b'Agnus Warner', b'Audie Wilkins', b'Antoine Arnold', b'Aron Pittman', b'Alita Greer', b'Armando Preston', b'Argentina Yang', b'Ardell Guthrie', b'Azalee Warner', b'Alessandra Mullins', b'Armand Schwartz', b'Alex Hamilton', b'Albert Le', b'Arlinda Harper', b'Amal Sandoval', b'Analisa Butler', b'Aleen Casey', b'Alton Montoya', b'Adriene Dawson', b'Amal Hancock', b'Arletta Skinner', b'Antonetta Mccormick', b'Antwan Perry', b'Alberto Wallace', b'Amee Burris', b'Almeta Cobb', b'Ara Maddox', b'Apryl Freeman', b'Andreas Norris', b'Ali Nieves', b'Akilah Alford', b'An Carrillo', b'Allyn Hopper', b'Ariel Delgado', b'Andy Mack', b'Anthony Moran', b'Antonio Curry', b'Albertine Villarreal', b'Ardelia Lyons', b'Aurore Rowe', b'Annalisa Garrison', b'Alton Buck', b'Anthony Deleon', b'Ashlyn Herman', b'Adam Alexander', b'Alphonso Wright', b'Ashanti Mitchell', b'Art Whitehead', b'Anjelica Steele', b'Alden Powell', b'Angelo Dudley', b'Asa Holden', b'Arlie Ramos', b'Abram Knowles', b'Arlen Briggs', b'Anette Andrews', b'Andreas Jennings', b'Arlyne Cox', b'Aubrey Meyers', b'Aron Bright', b'Aracelis Blevins', b'Alisia Briggs', b'Alva Castillo', b'Azucena Burnett', b'Anastacia Barker', b'Antwan Walton', b'Arnulfo Wright', b'Alfred Graham', b'Alexander Lynch', b'Ayako Wilkerson', b'Armando Osborne', b'Arnold Little', b'Apolonia Chambers', b'Alisia Mitchell', b'Aleida Price', b'Adolph Lara', b'Arden Rivers', b'August Day', b'Antony Reeves', b'Alleen Walls', b'Alfred Abbott', b'Alexander English', b'Alfredia Sullivan', b'Andrew Miranda', b'Al Hicks', b'Abe Weaver', b'Antonio Bryant', b'Aiko Gould', b'Antone Serrano', b'Angeles Silva', b'Augustus Sargent', b'Ayanna Yates', b'Arlean Hoffman', b'Amberly Carr', b'Angelyn Mclean', b'Andres Parsons', b'Ardelia Compton', b'Alvin Frye', b'Aldo Frazier', b'Aliza Hartman', b'Antwan Soto', b'Armando Keith', b'Aron Whitaker', b'Ashli Rasmussen', b'Angla Patel', b'Anette Cross', b'Andrew Jennings', b'Arlette Winters', b'Arvilla Farrell', b'Ashanti Santiago', b'Arlyne Best', b'Alfred Garrett', b'An Bush', b'Alethia Stephenson', b'Arlean Orr', b'Agustin Kane', b'Annita Hughes', b'Adelle Richardson', b'Alva Boone', b'Arcelia Larsen', b'Annelle Mcneil', b'Anastacia Ballard', b'Alfredo Hale', b'Arvilla Wagner', b'Annett Winters', b'Angelic Powers', b'Austin Hopper', b'Art Horne', b'Annalisa Owens', b'August Webster', b'An Molina', b'Ali Forbes', b'Alexis Harrison', b'Apryl Carey', b'Alica Ochoa', b'Ambrose Macdonald', b'Arnulfo Dudley', b'Arlyne Powell', b'Alvaro Prince', b'Alejandrina Aguirre', b'August Bell', b'Allyn Saunders']\n"
     ]
    }
   ],
   "source": [
    "print(connection.keys(\"A*\")) \n",
    "\n"
   ]
  },
  {
   "cell_type": "code",
   "execution_count": 24,
   "metadata": {},
   "outputs": [
    {
     "name": "stdout",
     "output_type": "stream",
     "text": [
      "b'369.5'\n"
     ]
    }
   ],
   "source": [
    "print(connection.get(\"Andrea Bray\"))"
   ]
  }
 ],
 "metadata": {
  "kernelspec": {
   "display_name": "data-science-KLwnPlAe-py3.10",
   "language": "python",
   "name": "python3"
  },
  "language_info": {
   "codemirror_mode": {
    "name": "ipython",
    "version": 3
   },
   "file_extension": ".py",
   "mimetype": "text/x-python",
   "name": "python",
   "nbconvert_exporter": "python",
   "pygments_lexer": "ipython3",
   "version": "3.10.12"
  }
 },
 "nbformat": 4,
 "nbformat_minor": 2
}
